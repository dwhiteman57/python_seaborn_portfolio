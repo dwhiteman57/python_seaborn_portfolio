{
 "cells": [
  {
   "cell_type": "markdown",
   "id": "7d65efa3",
   "metadata": {},
   "source": [
    "# Analyzing PM 2.5 Global Air Pollution - Data Visualization Portfolio Project\n",
    "\n",
    "This project analyzes fine particulate matter (PM2.5) pollution data for countries around the world from 2010 to 2017. PM2.5 refers to tiny airborne particles less than 2.5 microns in diameter that can enter the lungs and bloodstream, leading to negative health impacts. The aim of this analysis is to identify overall trends, regional differences, and country-level changes in PM2.5 pollution over time. Specifically, we will visualize the global trend using a line chart, highlight countries with the biggest increases and decreases using a bar chart, and create a choropleth map to display regional pollution levels in 2017. Examining PM2.5 pollution data can provide valuable insights into air quality changes globally and nationally. Reducing particulate matter pollution is an important public health goal, so identifying patterns and problem areas through data analysis is key for targeting interventions and monitoring progress. This project will analyze the recent trends to better understand where and how PM2.5 levels are changing around the world."
   ]
  },
  {
   "cell_type": "markdown",
   "id": "b992efa3",
   "metadata": {},
   "source": [
    "## Import Libraries"
   ]
  },
  {
   "cell_type": "code",
   "execution_count": 54,
   "id": "310c05fe",
   "metadata": {},
   "outputs": [],
   "source": [
    "import pandas as pd\n",
    "import matplotlib.pyplot as plt\n",
    "import numpy as np\n",
    "import geopandas as gpd\n",
    "import seaborn as sns\n",
    "\n",
    "import warnings\n",
    "warnings.filterwarnings(\"ignore\", \"is_categorical_dtype\")\n",
    "warnings.filterwarnings(\"ignore\", \"use_inf_as_na\")"
   ]
  },
  {
   "cell_type": "markdown",
   "id": "d6b3a11c",
   "metadata": {},
   "source": [
    "## Load The Data"
   ]
  },
  {
   "cell_type": "code",
   "execution_count": 55,
   "id": "79879a00",
   "metadata": {},
   "outputs": [
    {
     "data": {
      "text/html": [
       "<div>\n",
       "<style scoped>\n",
       "    .dataframe tbody tr th:only-of-type {\n",
       "        vertical-align: middle;\n",
       "    }\n",
       "\n",
       "    .dataframe tbody tr th {\n",
       "        vertical-align: top;\n",
       "    }\n",
       "\n",
       "    .dataframe thead th {\n",
       "        text-align: right;\n",
       "    }\n",
       "</style>\n",
       "<table border=\"1\" class=\"dataframe\">\n",
       "  <thead>\n",
       "    <tr style=\"text-align: right;\">\n",
       "      <th></th>\n",
       "      <th>Country Name</th>\n",
       "      <th>Country Code</th>\n",
       "      <th>2010</th>\n",
       "      <th>2011</th>\n",
       "      <th>2012</th>\n",
       "      <th>2013</th>\n",
       "      <th>2014</th>\n",
       "      <th>2015</th>\n",
       "      <th>2016</th>\n",
       "      <th>2017</th>\n",
       "    </tr>\n",
       "  </thead>\n",
       "  <tbody>\n",
       "    <tr>\n",
       "      <th>0</th>\n",
       "      <td>Afghanistan</td>\n",
       "      <td>AFG</td>\n",
       "      <td>65.245592</td>\n",
       "      <td>66.835727</td>\n",
       "      <td>66.023174</td>\n",
       "      <td>61.366745</td>\n",
       "      <td>59.010330</td>\n",
       "      <td>61.252656</td>\n",
       "      <td>56.287047</td>\n",
       "      <td>56.910808</td>\n",
       "    </tr>\n",
       "    <tr>\n",
       "      <th>1</th>\n",
       "      <td>Angola</td>\n",
       "      <td>AGO</td>\n",
       "      <td>33.787247</td>\n",
       "      <td>33.104195</td>\n",
       "      <td>33.415495</td>\n",
       "      <td>34.663923</td>\n",
       "      <td>32.974025</td>\n",
       "      <td>32.729873</td>\n",
       "      <td>31.785389</td>\n",
       "      <td>32.388505</td>\n",
       "    </tr>\n",
       "    <tr>\n",
       "      <th>2</th>\n",
       "      <td>Albania</td>\n",
       "      <td>ALB</td>\n",
       "      <td>21.277828</td>\n",
       "      <td>22.772537</td>\n",
       "      <td>20.578259</td>\n",
       "      <td>19.938517</td>\n",
       "      <td>18.883955</td>\n",
       "      <td>19.512540</td>\n",
       "      <td>18.189934</td>\n",
       "      <td>18.200603</td>\n",
       "    </tr>\n",
       "    <tr>\n",
       "      <th>3</th>\n",
       "      <td>Andorra</td>\n",
       "      <td>AND</td>\n",
       "      <td>12.807197</td>\n",
       "      <td>13.273506</td>\n",
       "      <td>12.407053</td>\n",
       "      <td>11.813673</td>\n",
       "      <td>10.830418</td>\n",
       "      <td>11.462178</td>\n",
       "      <td>10.255834</td>\n",
       "      <td>10.307621</td>\n",
       "    </tr>\n",
       "    <tr>\n",
       "      <th>4</th>\n",
       "      <td>Arab World</td>\n",
       "      <td>ARB</td>\n",
       "      <td>53.787001</td>\n",
       "      <td>52.652279</td>\n",
       "      <td>53.297270</td>\n",
       "      <td>54.053822</td>\n",
       "      <td>52.583603</td>\n",
       "      <td>60.406813</td>\n",
       "      <td>58.764905</td>\n",
       "      <td>58.689259</td>\n",
       "    </tr>\n",
       "  </tbody>\n",
       "</table>\n",
       "</div>"
      ],
      "text/plain": [
       "  Country Name Country Code       2010       2011       2012       2013  \\\n",
       "0  Afghanistan          AFG  65.245592  66.835727  66.023174  61.366745   \n",
       "1       Angola          AGO  33.787247  33.104195  33.415495  34.663923   \n",
       "2      Albania          ALB  21.277828  22.772537  20.578259  19.938517   \n",
       "3      Andorra          AND  12.807197  13.273506  12.407053  11.813673   \n",
       "4   Arab World          ARB  53.787001  52.652279  53.297270  54.053822   \n",
       "\n",
       "        2014       2015       2016       2017  \n",
       "0  59.010330  61.252656  56.287047  56.910808  \n",
       "1  32.974025  32.729873  31.785389  32.388505  \n",
       "2  18.883955  19.512540  18.189934  18.200603  \n",
       "3  10.830418  11.462178  10.255834  10.307621  \n",
       "4  52.583603  60.406813  58.764905  58.689259  "
      ]
     },
     "execution_count": 55,
     "metadata": {},
     "output_type": "execute_result"
    }
   ],
   "source": [
    "pm_pol = pd.read_csv('PM2.5 Global Air Pollution 2010-2017.csv')\n",
    "pm_pol.head()"
   ]
  },
  {
   "cell_type": "markdown",
   "id": "9600d3af",
   "metadata": {},
   "source": [
    "## Data Inspection And Cleaning"
   ]
  },
  {
   "cell_type": "code",
   "execution_count": 56,
   "id": "c8da3bef",
   "metadata": {},
   "outputs": [
    {
     "name": "stdout",
     "output_type": "stream",
     "text": [
      "Number Of Rows And Columns:\n",
      "(240, 10)\n",
      "--------------\n",
      "Column Names:\n",
      "Index(['Country Name', 'Country Code', '2010', '2011', '2012', '2013', '2014',\n",
      "       '2015', '2016', '2017'],\n",
      "      dtype='object')\n",
      "--------------\n",
      "Data Types:\n",
      "Country Name     object\n",
      "Country Code     object\n",
      "2010            float64\n",
      "2011            float64\n",
      "2012            float64\n",
      "2013            float64\n",
      "2014            float64\n",
      "2015            float64\n",
      "2016            float64\n",
      "2017            float64\n",
      "dtype: object\n",
      "--------------\n",
      "Checking For Null Values:\n",
      "Country Name    0\n",
      "Country Code    0\n",
      "2010            0\n",
      "2011            0\n",
      "2012            0\n",
      "2013            0\n",
      "2014            0\n",
      "2015            0\n",
      "2016            0\n",
      "2017            0\n",
      "dtype: int64\n",
      "--------------\n",
      "View Basic Dataframe Information:\n",
      "             2010        2011        2012        2013        2014        2015  \\\n",
      "count  240.000000  240.000000  240.000000  240.000000  240.000000  240.000000   \n",
      "mean    30.872419   31.131758   30.340594   29.790453   28.683781   30.579904   \n",
      "std     17.978061   17.942650   17.787894   17.732915   17.165262   19.577582   \n",
      "min      7.152866    7.283700    6.601134    6.278689    6.180830    6.063834   \n",
      "25%     17.043463   17.362182   16.255018   15.809037   15.171312   15.513597   \n",
      "50%     27.004787   27.453521   25.948751   25.442579   24.193790   24.441082   \n",
      "75%     39.433401   40.142818   40.863400   40.343259   39.552618   43.850369   \n",
      "max    100.784428  100.766061   96.963291   95.313986   98.116017   97.432289   \n",
      "\n",
      "             2016        2017  \n",
      "count  240.000000  240.000000  \n",
      "mean    29.161746   29.292363  \n",
      "std     19.034549   19.320528  \n",
      "min      5.893757    5.861331  \n",
      "25%     14.489949   14.572962  \n",
      "50%     23.079150   22.874830  \n",
      "75%     40.775888   40.966942  \n",
      "max     98.054714   99.734374  \n"
     ]
    }
   ],
   "source": [
    "# Check number of rows and columns\n",
    "print(\"Number Of Rows And Columns:\")\n",
    "print(pm_pol.shape)\n",
    "print(\"--------------\")\n",
    "\n",
    "# Get column names\n",
    "print(\"Column Names:\")\n",
    "print(pm_pol.columns)\n",
    "print(\"--------------\")\n",
    "\n",
    "# Check data types of columns\n",
    "print(\"Data Types:\")\n",
    "print(pm_pol.dtypes)\n",
    "print(\"--------------\")\n",
    "\n",
    "# Check for null values\n",
    "print(\"Checking For Null Values:\")\n",
    "print(pm_pol.isnull().sum())\n",
    "print(\"--------------\")\n",
    "\n",
    "# Get basic stats like mean, min, max for numeric columns\n",
    "print(\"View Basic Dataframe Information:\")\n",
    "print(pm_pol.describe())"
   ]
  },
  {
   "cell_type": "markdown",
   "id": "58d1cfaa",
   "metadata": {},
   "source": [
    "The datasets look intact and free from null values. We will now begin visualizing our data, pursuing the questions raised in the opening summary paragraph."
   ]
  },
  {
   "cell_type": "markdown",
   "id": "1788bfdf",
   "metadata": {},
   "source": [
    "## Visualizing The Data"
   ]
  },
  {
   "cell_type": "markdown",
   "id": "83b4c51f",
   "metadata": {},
   "source": [
    "### Question 1: How has average PM2.5 pollution changed over time globally?"
   ]
  },
  {
   "cell_type": "code",
   "execution_count": 58,
   "id": "a59dab97",
   "metadata": {},
   "outputs": [
    {
     "data": {
      "image/png": "[encoded data removed]",
      "text/plain": [
       "<Figure size 640x480 with 1 Axes>"
      ]
     },
     "metadata": {},
     "output_type": "display_data"
    }
   ],
   "source": [
    "# Select columns to aggregate\n",
    "pm_cols = pm_pol.columns[2:] \n",
    "\n",
    "# Take mean of selected columns\n",
    "global_means = pm_pol[pm_cols].mean()\n",
    "\n",
    "# Reset index \n",
    "global_means = global_means.reset_index()\n",
    "\n",
    "# Rename columns\n",
    "global_means.columns = ['Year', 'PM2.5']\n",
    "\n",
    "# Create line chart\n",
    "chart = sns.lineplot(data=global_means, x='Year', y=\"PM2.5\")\n",
    "\n",
    "# Add labels\n",
    "chart.set_title('Global Average PM2.5')\n",
    "chart.set(xlabel='Year', ylabel='PM2.5') \n",
    "\n",
    "plt.show()"
   ]
  },
  {
   "cell_type": "markdown",
   "id": "06f9ae55",
   "metadata": {},
   "source": [
    "### Which countries have seen the biggest increases or decreases in PM2.5 pollution from 2010 to 2017?"
   ]
  },
  {
   "cell_type": "code",
   "execution_count": 60,
   "id": "dc398fa5",
   "metadata": {},
   "outputs": [
    {
     "name": "stdout",
     "output_type": "stream",
     "text": [
      "                                    Country Name       2010       2017  \\\n",
      "156                                        Niger  69.150177  94.053818   \n",
      "125                                    Sri Lanka  31.033781  11.099617   \n",
      "157                                      Nigeria  52.609064  71.798174   \n",
      "36                                         China  69.479570  52.664596   \n",
      "38                                      Cameroon  59.293403  72.793096   \n",
      "207   East Asia & Pacific (IDA & IBRD countries)  56.054831  42.671405   \n",
      "55   East Asia & Pacific (excluding high income)  55.844976  42.539468   \n",
      "57                           East Asia & Pacific  51.912011  39.749958   \n",
      "129                    Late-demographic dividend  52.066881  40.000207   \n",
      "225                          Upper middle income  49.417762  38.748285   \n",
      "\n",
      "         Delta  \n",
      "156  24.903641  \n",
      "125  19.934164  \n",
      "157  19.189110  \n",
      "36   16.814975  \n",
      "38   13.499693  \n",
      "207  13.383426  \n",
      "55   13.305508  \n",
      "57   12.162054  \n",
      "129  12.066674  \n",
      "225  10.669476  \n",
      "                                 Country Name       2010       2017     Delta\n",
      "221                                    Turkey  43.821229  44.311526  0.490297\n",
      "222                                  Tanzania  28.607533  29.076641  0.469108\n",
      "98                                   IDA only  44.782268  44.336625  0.445643\n",
      "110                                     Kenya  28.154771  28.578374  0.423603\n",
      "68   Fragile and conflict affected situations  41.863781  42.217315  0.353534\n",
      "101                        Iran, Islamic Rep.  38.651502  38.978760  0.327258\n",
      "118                                   Lebanon  30.892125  30.621111  0.271015\n",
      "177                        West Bank and Gaza  33.006674  33.225630  0.218956\n",
      "135                                Madagascar  22.662011  22.542283  0.119728\n",
      "42                                    Comoros  20.666358  20.546825  0.119533\n"
     ]
    }
   ],
   "source": [
    "# Calculate absolute change from 2010 to 2017\n",
    "pm_pol['Delta'] = abs(pm_pol['2010'] - pm_pol['2017'])\n",
    "\n",
    "# Sort by absolute change \n",
    "pm_pol_sorted = pm_pol.sort_values('Delta', ascending=False)\n",
    "\n",
    "# Get top 10 increases \n",
    "print(pm_pol_sorted.iloc[0:10][['Country Name', '2010', '2017', 'Delta']])\n",
    "\n",
    "# Get top 10 decreases\n",
    "print(pm_pol_sorted.iloc[-10:][['Country Name', '2010', '2017', 'Delta']])\n",
    "\n",
    "\n",
    "\n",
    "\n",
    "# sns.displot(kind=\"hist\", data=plants, x=\"Plant_height\", hue=\"PH\", col=\"PH\")\n",
    "\n",
    "\n",
    "\n"
   ]
  },
  {
   "cell_type": "code",
   "execution_count": null,
   "id": "e0304ab4",
   "metadata": {},
   "outputs": [],
   "source": []
  }
 ],
 "metadata": {
  "kernelspec": {
   "display_name": "Python 3 (ipykernel)",
   "language": "python",
   "name": "python3"
  },
  "language_info": {
   "codemirror_mode": {
    "name": "ipython",
    "version": 3
   },
   "file_extension": ".py",
   "mimetype": "text/x-python",
   "name": "python",
   "nbconvert_exporter": "python",
   "pygments_lexer": "ipython3",
   "version": "3.11.4"
  }
 },
 "nbformat": 4,
 "nbformat_minor": 5
}
